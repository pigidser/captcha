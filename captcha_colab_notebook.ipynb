{
  "nbformat": 4,
  "nbformat_minor": 0,
  "metadata": {
    "colab": {
      "name": "Captcha Colab Notebook.ipynb",
      "provenance": [],
      "collapsed_sections": []
    },
    "kernelspec": {
      "name": "python3",
      "display_name": "Python 3"
    },
    "language_info": {
      "name": "python"
    },
    "accelerator": "GPU",
    "gpuClass": "standard"
  },
  "cells": [
    {
      "cell_type": "markdown",
      "source": [
        "# Train the model"
      ],
      "metadata": {
        "id": "Sd6iLuAF01Zq"
      }
    },
    {
      "cell_type": "code",
      "execution_count": null,
      "metadata": {
        "id": "1IGR5ArAPuk6"
      },
      "outputs": [],
      "source": [
        "!git clone https://github.com/pigidser/captcha.git\n",
        "%cd captcha\n",
        "!ls\n",
        "!python copy_images.py --dataset dataset --copies 999\n",
        "!python train_model_aug.py -d dataset -m output/minivggnet.hdf5 -e 50 -s standard"
      ]
    }
  ]
}